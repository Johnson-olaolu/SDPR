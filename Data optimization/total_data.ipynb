{
 "cells": [
  {
   "cell_type": "code",
   "execution_count": 3,
   "metadata": {},
   "outputs": [
    {
     "name": "stderr",
     "output_type": "stream",
     "text": [
      "C:\\Users\\JOHNSO~1\\AppData\\Local\\Temp/ipykernel_11000/3354816204.py:1: SettingWithCopyWarning: \n",
      "A value is trying to be set on a copy of a slice from a DataFrame.\n",
      "Try using .loc[row_indexer,col_indexer] = value instead\n",
      "\n",
      "See the caveats in the documentation: https://pandas.pydata.org/pandas-docs/stable/user_guide/indexing.html#returning-a-view-versus-a-copy\n",
      "  student_financial_data_11_12_id[\"StudentID\"] = student_financial_data_11_12_id[\"ID with leading\"]\n",
      "C:\\Users\\JOHNSO~1\\AppData\\Local\\Temp/ipykernel_11000/3354816204.py:2: SettingWithCopyWarning: \n",
      "A value is trying to be set on a copy of a slice from a DataFrame.\n",
      "Try using .loc[row_indexer,col_indexer] = value instead\n",
      "\n",
      "See the caveats in the documentation: https://pandas.pydata.org/pandas-docs/stable/user_guide/indexing.html#returning-a-view-versus-a-copy\n",
      "  student_financial_data_12_13_id[\"StudentID\"] = student_financial_data_12_13_id[\"ID with leading\"]\n",
      "C:\\Users\\JOHNSO~1\\AppData\\Local\\Temp/ipykernel_11000/3354816204.py:3: SettingWithCopyWarning: \n",
      "A value is trying to be set on a copy of a slice from a DataFrame.\n",
      "Try using .loc[row_indexer,col_indexer] = value instead\n",
      "\n",
      "See the caveats in the documentation: https://pandas.pydata.org/pandas-docs/stable/user_guide/indexing.html#returning-a-view-versus-a-copy\n",
      "  student_financial_data_13_14_id[\"StudentID\"] = student_financial_data_13_14_id[\"ID with leading\"]\n",
      "C:\\Users\\JOHNSO~1\\AppData\\Local\\Temp/ipykernel_11000/3354816204.py:4: SettingWithCopyWarning: \n",
      "A value is trying to be set on a copy of a slice from a DataFrame.\n",
      "Try using .loc[row_indexer,col_indexer] = value instead\n",
      "\n",
      "See the caveats in the documentation: https://pandas.pydata.org/pandas-docs/stable/user_guide/indexing.html#returning-a-view-versus-a-copy\n",
      "  student_financial_data_14_15_id[\"StudentID\"] = student_financial_data_14_15_id[\"ID with leading\"]\n",
      "C:\\Users\\JOHNSO~1\\AppData\\Local\\Temp/ipykernel_11000/3354816204.py:5: SettingWithCopyWarning: \n",
      "A value is trying to be set on a copy of a slice from a DataFrame.\n",
      "Try using .loc[row_indexer,col_indexer] = value instead\n",
      "\n",
      "See the caveats in the documentation: https://pandas.pydata.org/pandas-docs/stable/user_guide/indexing.html#returning-a-view-versus-a-copy\n",
      "  student_financial_data_15_16_id[\"StudentID\"] = student_financial_data_15_16_id[\"ID with leading\"]\n",
      "C:\\Users\\JOHNSO~1\\AppData\\Local\\Temp/ipykernel_11000/3354816204.py:6: SettingWithCopyWarning: \n",
      "A value is trying to be set on a copy of a slice from a DataFrame.\n",
      "Try using .loc[row_indexer,col_indexer] = value instead\n",
      "\n",
      "See the caveats in the documentation: https://pandas.pydata.org/pandas-docs/stable/user_guide/indexing.html#returning-a-view-versus-a-copy\n",
      "  student_financial_data_16_17_id[\"StudentID\"] = student_financial_data_16_17_id[\"ID with leading\"]\n"
     ]
    }
   ],
   "source": [
    "%run \"./financial_data.ipynb\"\n",
    "%run \"./progress_data.ipynb\"\n",
    "%run \"./static_data.ipynb\"\n",
    "\n",
    "from functools import reduce"
   ]
  },
  {
   "cell_type": "code",
   "execution_count": 4,
   "metadata": {},
   "outputs": [],
   "source": [
    "def join_data (static_data, progress_data, financial_data ) : \n",
    "    static_id = static_data[\"StudentID\"]\n",
    "    progress_id = static_data[\"StudentID\"]\n",
    "    financial_id = financial_data[\"StudentID\"]\n",
    "    year_id = reduce(np.intersect1d, (static_id, progress_id, financial_id))\n",
    "    static_data_final = static_data[static_data[\"StudentID\"].isin(year_id)]\n",
    "    static_progress_final = progress_data[progress_data[\"StudentID\"].isin(year_id)]\n",
    "    static_financial_final = financial_data[financial_data[\"StudentID\"].isin(year_id)]\n",
    "    data_frames = [static_data_final, static_progress_final, static_financial_final]\n",
    "    #return pd.merge(static_data_final, static_progress_final , on = \"StudentID\")\n",
    "    return reduce(lambda  left,right: pd.merge(left,right,on=['StudentID']), data_frames)\n",
    "\n",
    "student_data_11_12 = join_data(student_static_11_12_id, student_progress_11_12_id, student_financial_data_11_12_id)\n",
    "student_data_12_13 = join_data(student_static_12_13_id, student_progress_12_13_id, student_financial_data_12_13_id)\n",
    "student_data_13_14 = join_data(student_static_13_14_id, student_progress_13_14_id, student_financial_data_13_14_id)\n",
    "student_data_14_15 = join_data(student_static_14_15_id, student_progress_14_15_id, student_financial_data_14_15_id)\n",
    "student_data_15_16 = join_data(student_static_15_16_id, student_progress_15_16_id, student_financial_data_15_16_id)\n",
    "student_data_16_17 = join_data(student_static_16_17_id, student_progress_16_17_id, student_financial_data_16_17_id)"
   ]
  },
  {
   "cell_type": "code",
   "execution_count": 29,
   "metadata": {},
   "outputs": [],
   "source": [
    "def add_dropout_label (df1, df2, df3, df4, df5, df6) :\n",
    "    df_array = [df1, df2, df3, df4, df5, df6 ]\n",
    "    for i in range(len(df_array)-1) : \n",
    "        # print(type(df_array[i + 1][\"StudentID\"].unique()[1]))\n",
    "        #print(i)\n",
    "        #print( df_array[i+1][\"StudentID\"])\n",
    "        for index,  row in df_array[i +1].iterrows() :\n",
    "            # #if row[\"StudentID\"] in df_array[i][\"StudentID\"]: \n",
    "            # current_id = row[\"StudentID\"]\n",
    "            # if(np.isnan(row[\"StudentID\"]) == False) :\n",
    "            #     current_id = int(row[\"StudentID\"])         \n",
    "            if row[\"StudentID\"] in df[i + 1][\"StudentID\"]: \n",
    "                print(\"found\")\n",
    "                df_array[i].at[index, \"Dropout\"] = 0\n",
    "            else : \n",
    "                df_array[i].at[index, \"Dropout\"] = 1\n",
    "        \n",
    "\n",
    "add_dropout_label(student_data_11_12, student_data_12_13, student_data_13_14, student_data_14_15, student_data_15_16, student_data_16_17)"
   ]
  },
  {
   "cell_type": "code",
   "execution_count": 1,
   "metadata": {},
   "outputs": [
    {
     "ename": "NameError",
     "evalue": "name 'student_data_11_12' is not defined",
     "output_type": "error",
     "traceback": [
      "\u001b[1;31m---------------------------------------------------------------------------\u001b[0m",
      "\u001b[1;31mNameError\u001b[0m                                 Traceback (most recent call last)",
      "\u001b[1;32mC:\\Users\\JOHNSO~1\\AppData\\Local\\Temp/ipykernel_12556/3936156995.py\u001b[0m in \u001b[0;36m<module>\u001b[1;34m\u001b[0m\n\u001b[1;32m----> 1\u001b[1;33m \u001b[0mstudent_data_11_12\u001b[0m\u001b[1;33m[\u001b[0m\u001b[1;34m\"Dropout\"\u001b[0m\u001b[1;33m]\u001b[0m\u001b[1;33m.\u001b[0m\u001b[0mvalue_counts\u001b[0m\u001b[1;33m(\u001b[0m\u001b[1;33m)\u001b[0m\u001b[1;33m\u001b[0m\u001b[1;33m\u001b[0m\u001b[0m\n\u001b[0m",
      "\u001b[1;31mNameError\u001b[0m: name 'student_data_11_12' is not defined"
     ]
    }
   ],
   "source": [
    "student_data_11_12[\"Dropout\"].value_counts()\n"
   ]
  },
  {
   "cell_type": "code",
   "execution_count": 69,
   "metadata": {},
   "outputs": [
    {
     "data": {
      "text/plain": [
       "0        21943\n",
       "1        23548\n",
       "2        25893\n",
       "3        28925\n",
       "4        30480\n",
       "         ...  \n",
       "1848    319614\n",
       "1849    319635\n",
       "1850    319715\n",
       "1851    319718\n",
       "1852    319867\n",
       "Name: StudentID, Length: 1853, dtype: int64"
      ]
     },
     "execution_count": 69,
     "metadata": {},
     "output_type": "execute_result"
    }
   ],
   "source": [
    "student_data_12_13[\"StudentID\"]"
   ]
  },
  {
   "cell_type": "code",
   "execution_count": null,
   "metadata": {},
   "outputs": [],
   "source": []
  }
 ],
 "metadata": {
  "interpreter": {
   "hash": "27f6838566980914bee6f5798091f430325737b786d5f6802a4f56c7ed09dd52"
  },
  "kernelspec": {
   "display_name": "Python 3.9.7 64-bit ('base': conda)",
   "language": "python",
   "name": "python3"
  },
  "language_info": {
   "codemirror_mode": {
    "name": "ipython",
    "version": 3
   },
   "file_extension": ".py",
   "mimetype": "text/x-python",
   "name": "python",
   "nbconvert_exporter": "python",
   "pygments_lexer": "ipython3",
   "version": "3.9.7"
  },
  "orig_nbformat": 4
 },
 "nbformat": 4,
 "nbformat_minor": 2
}
