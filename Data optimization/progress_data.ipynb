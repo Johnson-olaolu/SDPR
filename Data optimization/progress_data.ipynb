{
 "cells": [
  {
   "cell_type": "code",
   "execution_count": 1,
   "metadata": {},
   "outputs": [],
   "source": [
    "import pandas as pd\n",
    "import numpy as np\n",
    "import matplotlib.pyplot as plt\n",
    "%matplotlib inline"
   ]
  },
  {
   "cell_type": "code",
   "execution_count": 2,
   "metadata": {},
   "outputs": [],
   "source": [
    "student_dropout = pd.read_csv(\"../datasets/DropoutTrainLabels.csv\")"
   ]
  },
  {
   "cell_type": "code",
   "execution_count": 3,
   "metadata": {},
   "outputs": [],
   "source": [
    "student_progress_11_12_fall = pd.read_csv(\"../datasets/Student Progress Data/Fall 2011_SP.csv\")\n",
    "student_progress_12_13_fall = pd.read_csv(\"../datasets/Student Progress Data/Fall 2012_SP.csv\")\n",
    "student_progress_13_14_fall = pd.read_csv(\"../datasets/Student Progress Data/Fall 2013_SP.csv\")\n",
    "student_progress_14_15_fall = pd.read_csv(\"../datasets/Student Progress Data/Fall 2014_SP.csv\")\n",
    "student_progress_15_16_fall = pd.read_csv(\"../datasets/Student Progress Data/Fall 2015_SP.csv\")\n",
    "student_progress_16_17_fall = pd.read_csv(\"../datasets/Student Progress Data/Fall 2016_SP.csv\")\n",
    "\n",
    "\n",
    "student_progress_11_12_spring  = pd.read_csv(\"../datasets/Student Progress Data/Spring 2012_SP.csv\")\n",
    "student_progress_12_13_spring  = pd.read_csv(\"../datasets/Student Progress Data/Spring 2013_SP.csv\")\n",
    "student_progress_13_14_spring  = pd.read_csv(\"../datasets/Student Progress Data/Spring 2014_SP.csv\")\n",
    "student_progress_14_15_spring  = pd.read_csv(\"../datasets/Student Progress Data/Spring 2015_SP.csv\")\n",
    "student_progress_15_16_spring  = pd.read_csv(\"../datasets/Student Progress Data/Spring 2016_SP.csv\")\n",
    "student_progress_16_17_spring  = pd.read_csv(\"../datasets/Student Progress Data/Spring 2017_SP.csv\")\n"
   ]
  },
  {
   "cell_type": "code",
   "execution_count": 7,
   "metadata": {},
   "outputs": [],
   "source": [
    "student_progress_11_12 = pd.concat([student_progress_11_12_fall, student_progress_11_12_spring])\n",
    "student_progress_12_13 = pd.concat([student_progress_12_13_fall, student_progress_12_13_spring])\n",
    "student_progress_13_14 = pd.concat([student_progress_13_14_fall, student_progress_13_14_spring])\n",
    "student_progress_14_15 = pd.concat([student_progress_14_15_fall, student_progress_14_15_spring])\n",
    "student_progress_15_16 = pd.concat([student_progress_15_16_fall, student_progress_15_16_spring])\n",
    "student_progress_16_17 = pd.concat([student_progress_16_17_fall, student_progress_16_17_spring])"
   ]
  },
  {
   "cell_type": "code",
   "execution_count": 8,
   "metadata": {},
   "outputs": [],
   "source": [
    "student_progress_11_12_id = student_progress_11_12[student_progress_11_12[\"StudentID\"].isin(student_dropout[\"StudentID\"])]\n",
    "student_progress_12_13_id =  student_progress_12_13[student_progress_12_13[\"StudentID\"].isin(student_dropout[\"StudentID\"])]\n",
    "student_progress_13_14_id = student_progress_13_14[student_progress_13_14[\"StudentID\"].isin(student_dropout[\"StudentID\"])]\n",
    "student_progress_14_15_id = student_progress_14_15[student_progress_14_15[\"StudentID\"].isin(student_dropout[\"StudentID\"])]\n",
    "student_progress_15_16_id = student_progress_15_16[student_progress_15_16[\"StudentID\"].isin(student_dropout[\"StudentID\"])]\n",
    "student_progress_16_17_id = student_progress_16_17[student_progress_16_17[\"StudentID\"].isin(student_dropout[\"StudentID\"])]"
   ]
  },
  {
   "cell_type": "code",
   "execution_count": null,
   "metadata": {},
   "outputs": [],
   "source": []
  }
 ],
 "metadata": {
  "interpreter": {
   "hash": "2eec35fd8d047146afe63534ab6c28af6d44cff02a2575c7b42ef397cb9e9b73"
  },
  "kernelspec": {
   "display_name": "Python 3.9.7 64-bit ('base': conda)",
   "language": "python",
   "name": "python3"
  },
  "language_info": {
   "codemirror_mode": {
    "name": "ipython",
    "version": 3
   },
   "file_extension": ".py",
   "mimetype": "text/x-python",
   "name": "python",
   "nbconvert_exporter": "python",
   "pygments_lexer": "ipython3",
   "version": "3.9.7"
  },
  "orig_nbformat": 4
 },
 "nbformat": 4,
 "nbformat_minor": 2
}
