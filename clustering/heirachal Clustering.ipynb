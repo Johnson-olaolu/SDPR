{
 "cells": [
  {
   "cell_type": "code",
   "execution_count": 8,
   "metadata": {},
   "outputs": [],
   "source": [
    "import numpy as np\n",
    "import pandas as pd\n",
    "import matplotlib.pyplot as plt\n",
    "import scipy.cluster.hierarchy as sch\n",
    "from sklearn.cluster import AgglomerativeClustering"
   ]
  },
  {
   "cell_type": "code",
   "execution_count": 9,
   "metadata": {},
   "outputs": [],
   "source": [
    "student_data = pd.read_csv(\"../Feature Analysis/feature analysis.csv\")"
   ]
  },
  {
   "cell_type": "code",
   "execution_count": 10,
   "metadata": {},
   "outputs": [],
   "source": [
    "student_dropout = student_data[student_data[\"Dropout\"] == 1]"
   ]
  },
  {
   "cell_type": "code",
   "execution_count": 11,
   "metadata": {},
   "outputs": [
    {
     "data": {
      "image/png": "[encoded data removed]",
      "text/plain": [
       "<Figure size 432x288 with 1 Axes>"
      ]
     },
     "metadata": {
      "needs_background": "light"
     },
     "output_type": "display_data"
    }
   ],
   "source": [
    "dendogram = sch.dendrogram(sch.linkage(student_dropout, method= \"ward\"))"
   ]
  },
  {
   "cell_type": "code",
   "execution_count": 17,
   "metadata": {},
   "outputs": [],
   "source": [
    "hc = AgglomerativeClustering(n_clusters=7, affinity= \"euclidean\" , linkage= \"ward\")"
   ]
  },
  {
   "cell_type": "code",
   "execution_count": 18,
   "metadata": {},
   "outputs": [],
   "source": [
    "clusters = hc.fit_predict(student_dropout)"
   ]
  },
  {
   "cell_type": "code",
   "execution_count": 19,
   "metadata": {},
   "outputs": [
    {
     "data": {
      "text/plain": [
       "array([3, 2, 1, 4, 4, 5, 1, 5, 4, 5, 5, 3, 4, 4, 5, 5, 1, 3, 3, 5, 5, 3,\n",
       "       4, 0, 5, 5, 4, 4, 5, 1, 5, 0, 5, 3, 5, 5, 4, 5, 1, 5, 5, 3, 5, 3,\n",
       "       4, 3, 5, 3, 3, 1, 5, 1, 1, 5, 1, 3, 4, 3, 3, 3, 1, 5, 1, 5, 3, 3,\n",
       "       3, 4, 0, 3, 0, 4, 3, 5, 0, 5, 5, 3, 3, 1, 1, 5, 3, 5, 1, 3, 5, 0,\n",
       "       5, 1, 5, 5, 3, 3, 5, 2, 5, 4, 0, 1, 1, 0, 5, 0, 1, 5, 6, 1, 2, 1,\n",
       "       1, 5, 5, 3, 0, 4, 3, 1, 5, 5, 2, 3, 1, 1, 0, 5, 5, 5, 1, 2, 6, 5,\n",
       "       5, 5, 3, 5, 5, 3, 6, 1, 5, 1, 3, 1, 1, 3, 5, 2, 0, 5, 5, 2, 2, 1,\n",
       "       1, 1, 1, 1, 1, 5, 5, 3, 1, 5, 6, 1, 1, 0, 1, 1, 0, 6, 2, 4, 4, 4,\n",
       "       2, 6, 1, 0, 3, 3, 1, 1, 5, 5, 4, 0, 1, 5, 4, 5, 5, 2, 5, 0, 5, 0,\n",
       "       3, 0, 0, 6, 5, 6, 0, 1, 5, 6, 3, 5, 2, 0, 1, 3, 3, 5, 1, 4, 3, 3,\n",
       "       3, 5, 5, 3, 1, 4, 0, 5, 5, 1, 1, 5, 3, 1, 6, 3, 5, 0, 5, 5, 0, 3,\n",
       "       2, 3, 5, 1, 3, 0, 3, 3, 5, 5, 1, 3, 4, 5, 0, 4, 4, 1, 4, 2, 0, 1,\n",
       "       5, 3, 0, 4, 4, 3, 0, 4, 4, 4, 1, 4, 1, 2, 4, 1, 3, 2, 4, 4, 0, 6,\n",
       "       1, 4, 2, 4, 4, 0, 1, 3, 1, 2, 1, 2, 4, 6, 3, 1, 4, 4, 4, 6, 3, 6,\n",
       "       4, 3, 0, 4, 1, 4, 3, 2, 4, 3, 4, 4, 1, 4, 4, 4, 3, 3, 3, 1, 3, 0,\n",
       "       3, 4, 3, 3, 4, 1, 4, 3, 1, 4, 4, 4, 4, 4, 4, 1, 3, 4, 0, 1, 4, 4,\n",
       "       4, 4, 3, 1, 2, 6, 4, 4, 4, 1, 0, 1, 4, 0, 2, 3, 1, 2, 1, 4, 4, 0,\n",
       "       1, 3, 1, 1, 1, 4, 1, 0, 4, 4, 3, 4, 4, 4, 0, 4, 4, 4, 4, 1, 6, 1,\n",
       "       0, 4, 3, 4, 1, 4, 0, 1, 3, 4, 4, 6, 4, 4, 1, 1, 1, 4, 4, 3, 0, 4,\n",
       "       4, 1, 0, 6, 0, 4, 4, 4, 4, 4, 3, 3, 4, 2, 1, 6, 1, 4, 4, 1, 4, 4,\n",
       "       4, 4, 4, 4, 4, 0, 1, 4, 4, 4, 0, 4, 4, 6, 4, 4, 4, 1, 6, 4, 4, 4,\n",
       "       4, 6, 4], dtype=int64)"
      ]
     },
     "execution_count": 19,
     "metadata": {},
     "output_type": "execute_result"
    }
   ],
   "source": [
    "clusters"
   ]
  },
  {
   "cell_type": "code",
   "execution_count": null,
   "metadata": {},
   "outputs": [],
   "source": []
  }
 ],
 "metadata": {
  "interpreter": {
   "hash": "27f6838566980914bee6f5798091f430325737b786d5f6802a4f56c7ed09dd52"
  },
  "kernelspec": {
   "display_name": "Python 3.9.7 64-bit ('base': conda)",
   "language": "python",
   "name": "python3"
  },
  "language_info": {
   "codemirror_mode": {
    "name": "ipython",
    "version": 3
   },
   "file_extension": ".py",
   "mimetype": "text/x-python",
   "name": "python",
   "nbconvert_exporter": "python",
   "pygments_lexer": "ipython3",
   "version": "3.9.7"
  },
  "orig_nbformat": 4
 },
 "nbformat": 4,
 "nbformat_minor": 2
}
