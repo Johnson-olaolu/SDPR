{
 "cells": [
  {
   "cell_type": "code",
   "execution_count": 1,
   "metadata": {},
   "outputs": [],
   "source": [
    "import pandas as pd \n",
    "import seaborn as sns \n",
    "import numpy as np \n",
    "import matplotlib.pyplot as plt \n",
    "%matplotlib inline "
   ]
  },
  {
   "cell_type": "code",
   "execution_count": 2,
   "metadata": {},
   "outputs": [],
   "source": [
    "student_data = pd.read_csv(\"../Feature Analysis/feature analysis.csv\")"
   ]
  },
  {
   "cell_type": "code",
   "execution_count": 3,
   "metadata": {},
   "outputs": [],
   "source": [
    "student_dropout = student_data[student_data[\"Dropout\"] == 1]"
   ]
  },
  {
   "cell_type": "code",
   "execution_count": 5,
   "metadata": {},
   "outputs": [],
   "source": [
    "from sklearn.cluster import KMeans"
   ]
  },
  {
   "cell_type": "code",
   "execution_count": 6,
   "metadata": {},
   "outputs": [],
   "source": [
    "kmeans = KMeans(n_clusters=7)"
   ]
  },
  {
   "cell_type": "code",
   "execution_count": 8,
   "metadata": {},
   "outputs": [],
   "source": [
    "clusters = kmeans.fit_predict(student_dropout)"
   ]
  },
  {
   "cell_type": "code",
   "execution_count": 9,
   "metadata": {},
   "outputs": [
    {
     "data": {
      "text/plain": [
       "array([3, 0, 5, 2, 2, 2, 6, 2, 1, 2, 2, 3, 1, 2, 2, 3, 6, 3, 3, 3, 6, 2,\n",
       "       1, 4, 3, 3, 2, 1, 3, 6, 2, 5, 2, 3, 2, 2, 1, 2, 6, 2, 2, 3, 2, 3,\n",
       "       1, 3, 2, 3, 3, 6, 2, 6, 6, 2, 6, 6, 1, 3, 3, 3, 6, 2, 6, 2, 3, 3,\n",
       "       3, 1, 5, 3, 5, 2, 3, 2, 5, 2, 2, 3, 3, 6, 6, 2, 3, 2, 6, 3, 2, 5,\n",
       "       2, 6, 2, 2, 3, 3, 2, 0, 3, 1, 0, 6, 6, 5, 2, 5, 1, 2, 4, 6, 0, 6,\n",
       "       6, 2, 6, 2, 4, 1, 3, 6, 2, 2, 0, 3, 6, 6, 5, 2, 2, 2, 6, 0, 4, 3,\n",
       "       2, 2, 3, 2, 2, 3, 4, 6, 2, 6, 3, 6, 6, 3, 2, 0, 5, 2, 2, 0, 0, 6,\n",
       "       6, 6, 6, 6, 6, 2, 2, 3, 1, 2, 5, 6, 6, 5, 6, 6, 5, 4, 0, 1, 1, 2,\n",
       "       0, 4, 6, 5, 3, 3, 6, 5, 2, 2, 2, 5, 6, 2, 1, 2, 2, 0, 2, 5, 3, 5,\n",
       "       3, 5, 5, 4, 2, 4, 5, 6, 2, 4, 3, 2, 0, 4, 6, 3, 3, 2, 6, 1, 3, 3,\n",
       "       3, 2, 2, 3, 6, 2, 5, 2, 2, 6, 6, 2, 3, 6, 4, 3, 2, 5, 2, 2, 5, 3,\n",
       "       0, 3, 2, 6, 3, 4, 3, 3, 2, 2, 6, 3, 1, 2, 5, 1, 2, 1, 2, 0, 5, 6,\n",
       "       2, 3, 4, 2, 2, 3, 5, 2, 1, 2, 6, 2, 5, 4, 2, 6, 2, 0, 2, 2, 5, 5,\n",
       "       6, 2, 0, 1, 2, 5, 6, 3, 6, 0, 6, 0, 2, 4, 3, 6, 1, 1, 2, 4, 3, 4,\n",
       "       1, 3, 5, 2, 6, 2, 3, 0, 2, 3, 2, 2, 6, 1, 1, 2, 3, 3, 3, 6, 3, 5,\n",
       "       3, 2, 2, 3, 2, 6, 2, 3, 6, 1, 1, 2, 2, 2, 2, 6, 3, 1, 5, 1, 1, 2,\n",
       "       2, 1, 3, 5, 0, 4, 2, 1, 2, 6, 5, 1, 2, 5, 0, 2, 1, 0, 1, 1, 1, 5,\n",
       "       6, 1, 6, 6, 6, 1, 6, 5, 1, 1, 3, 1, 1, 1, 5, 1, 1, 1, 1, 6, 4, 1,\n",
       "       5, 1, 1, 1, 1, 1, 5, 1, 1, 1, 1, 4, 1, 1, 6, 6, 6, 1, 1, 1, 6, 1,\n",
       "       1, 6, 5, 4, 5, 1, 1, 1, 1, 1, 1, 1, 1, 0, 6, 4, 1, 1, 1, 6, 1, 1,\n",
       "       1, 1, 1, 1, 1, 5, 1, 1, 1, 1, 5, 1, 1, 4, 1, 1, 1, 1, 4, 1, 1, 1,\n",
       "       1, 4, 1])"
      ]
     },
     "execution_count": 9,
     "metadata": {},
     "output_type": "execute_result"
    }
   ],
   "source": [
    "clusters"
   ]
  },
  {
   "cell_type": "code",
   "execution_count": null,
   "metadata": {},
   "outputs": [],
   "source": []
  }
 ],
 "metadata": {
  "interpreter": {
   "hash": "27f6838566980914bee6f5798091f430325737b786d5f6802a4f56c7ed09dd52"
  },
  "kernelspec": {
   "display_name": "Python 3.9.7 64-bit ('base': conda)",
   "language": "python",
   "name": "python3"
  },
  "language_info": {
   "codemirror_mode": {
    "name": "ipython",
    "version": 3
   },
   "file_extension": ".py",
   "mimetype": "text/x-python",
   "name": "python",
   "nbconvert_exporter": "python",
   "pygments_lexer": "ipython3",
   "version": "3.9.7"
  },
  "orig_nbformat": 4
 },
 "nbformat": 4,
 "nbformat_minor": 2
}
